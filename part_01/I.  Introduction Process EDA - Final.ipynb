{
 "cells": [
  {
   "cell_type": "markdown",
   "metadata": {},
   "source": [
    "# Image Recognition with CNN\n",
    "Kevin Schoelzel Capstone Project\n"
   ]
  },
  {
   "cell_type": "markdown",
   "metadata": {
    "collapsed": true
   },
   "source": [
    "## Introduction \n",
    "\n",
    "For my capstone project I used the cDiscount product catalog from kaggle to build an image recognition model using Keras Convoluted Neural Networks libraries. \n",
    "\n",
    "The data for this project was massive (58GB) and consisted of over 7 million distinct pictures, which could be classified into 5720 distinct categories. This data was too large to be classified on a non-GPU computer in an efficient manner. \n",
    "\n",
    "As such, I created two smaller datasets, containing five categories each. I refer to these two sets as samples throughout my notebooks. I then built two CNN models to gain a better understanding of how these algorithms work. \n",
    "\n",
    "\n",
    "The first sample was comprised of objects that were all similar to each other; I refer to the files dealing with this first sample as Wine. \n",
    "\n",
    "The five categories for this sample were: \n",
    "\n",
    "- Whiskey  \n",
    "- Red Wine\n",
    "- White Wine\n",
    "- Rose\n",
    "- Champagne\n",
    "\n",
    "The second set of items I selected were all different. I wanted to see if there was a noticeable difference in how the model performed when there were visually more distinct differences to train on. I refer to this second set as Mixed Bag or MB throughout my notebooks. \n",
    "\n",
    "The five categories for this sample were\n",
    "\n",
    "- Photography Books \n",
    "- Auto Fuses\n",
    "- Hinges\n",
    "- Lotion \n",
    "- Bed Headboards\n",
    "\n",
    "Both test sets were 7916 items (roughly 0.1% of the total database). I picked these items because they had almost the same number of items per category. In keeping these characteristics of my data \"constant\" I hoped to isolate the variables I was testing. \n",
    "\n",
    "## Notebooks, Data Cleaning, and Modeling \n",
    "\n",
    "\n",
    "To jump from the EDA to different sections of my capstone, you can use the links below: \n",
    "\n",
    "[II. Wine Data Pipeline an Generator  ](II. Wine - Data Pipeline and Generator - Final.ipynb).\n",
    "\n",
    "[II. MB Data Pipeline an Generator  ](II. MB Data Pipeline and Generator - Final.ipynb).\n",
    "\n",
    "During the Data Generation, the items were converted to categorical numbers before they were loaded into the final model pipeline. Because of the requirements of Neural Nets to have distinct shapes of the input data it was creating an error when I tried to convert them back to create the confusion matrix. Luckily, this could be remedied by using a separate pandas dataframe that had the category and product ids (but not the picture data). It was easier to get the information I needed, which is what the fixed Y-vales shows. \n",
    "\n",
    "I have commented out the to-categorical lines in the main pipelines, but these Fixed Y-Values files should still be run, as its the arrays saved out of them that are loaded into my final models. \n",
    "\n",
    "[III. Wine Fixed Y-Values ](Wine Fixed Y-Values - Final.ipynb).\n",
    "\n",
    "[III. MB Fixed Y-Values ](III. MB Fixed Y-Values - Final.ipynb).\n",
    "\n",
    "\n",
    "The model notebooks:\n",
    "\n",
    "\n",
    "[IV. Wine Model and Analysis ](IV. Wine Model and Analysis - Final.ipynb).\n",
    "\n",
    "[IV. MB Model and Analysis ](IV. MB Model and Analysis - Final.ipynb).\n",
    "\n",
    "\n",
    "In addition, here is the link to my notebook from part two, which illustrates working with the BSON file type and extracting the images. The insights from this notebook were what I used in the data generators and pipelines. \n",
    "\n",
    "[Exploring Image Files and BSON](Exploring Image Files and BSON.ipynb).\n",
    "\n"
   ]
  },
  {
   "cell_type": "code",
   "execution_count": 18,
   "metadata": {
    "collapsed": true
   },
   "outputs": [],
   "source": [
    "# Imports \n",
    "import pandas as pd\n",
    "import seaborn as sns\n",
    "\n",
    "import matplotlib.pyplot as plt\n",
    "%matplotlib inline "
   ]
  },
  {
   "cell_type": "code",
   "execution_count": 11,
   "metadata": {
    "collapsed": true
   },
   "outputs": [],
   "source": [
    "# Import Data\n",
    "df_names = pd.read_csv(\"category_names.csv\")\n"
   ]
  },
  {
   "cell_type": "markdown",
   "metadata": {},
   "source": [
    "# EDA and Process\n"
   ]
  },
  {
   "cell_type": "code",
   "execution_count": 6,
   "metadata": {
    "collapsed": true
   },
   "outputs": [],
   "source": [
    "df= pd.read_csv(\"category_df.csv\")\n",
    "df = df.drop(['Unnamed: 0'], axis=1)"
   ]
  },
  {
   "cell_type": "code",
   "execution_count": 7,
   "metadata": {},
   "outputs": [
    {
     "data": {
      "text/html": [
       "<div>\n",
       "<style>\n",
       "    .dataframe thead tr:only-child th {\n",
       "        text-align: right;\n",
       "    }\n",
       "\n",
       "    .dataframe thead th {\n",
       "        text-align: left;\n",
       "    }\n",
       "\n",
       "    .dataframe tbody tr th {\n",
       "        vertical-align: top;\n",
       "    }\n",
       "</style>\n",
       "<table border=\"1\" class=\"dataframe\">\n",
       "  <thead>\n",
       "    <tr style=\"text-align: right;\">\n",
       "      <th></th>\n",
       "      <th>_id</th>\n",
       "      <th>category_id</th>\n",
       "    </tr>\n",
       "  </thead>\n",
       "  <tbody>\n",
       "    <tr>\n",
       "      <th>0</th>\n",
       "      <td>0</td>\n",
       "      <td>1000010653</td>\n",
       "    </tr>\n",
       "    <tr>\n",
       "      <th>1</th>\n",
       "      <td>1</td>\n",
       "      <td>1000010653</td>\n",
       "    </tr>\n",
       "    <tr>\n",
       "      <th>2</th>\n",
       "      <td>2</td>\n",
       "      <td>1000004079</td>\n",
       "    </tr>\n",
       "    <tr>\n",
       "      <th>3</th>\n",
       "      <td>3</td>\n",
       "      <td>1000004141</td>\n",
       "    </tr>\n",
       "    <tr>\n",
       "      <th>4</th>\n",
       "      <td>4</td>\n",
       "      <td>1000015539</td>\n",
       "    </tr>\n",
       "  </tbody>\n",
       "</table>\n",
       "</div>"
      ],
      "text/plain": [
       "   _id  category_id\n",
       "0    0   1000010653\n",
       "1    1   1000010653\n",
       "2    2   1000004079\n",
       "3    3   1000004141\n",
       "4    4   1000015539"
      ]
     },
     "execution_count": 7,
     "metadata": {},
     "output_type": "execute_result"
    }
   ],
   "source": [
    "df.head()"
   ]
  },
  {
   "cell_type": "code",
   "execution_count": 15,
   "metadata": {},
   "outputs": [
    {
     "data": {
      "text/plain": [
       "7069896"
      ]
     },
     "execution_count": 15,
     "metadata": {},
     "output_type": "execute_result"
    }
   ],
   "source": [
    "# Over 7 million unique items in the data set\n",
    "len(df)"
   ]
  },
  {
   "cell_type": "code",
   "execution_count": 16,
   "metadata": {},
   "outputs": [
    {
     "data": {
      "text/plain": [
       "5270"
      ]
     },
     "execution_count": 16,
     "metadata": {},
     "output_type": "execute_result"
    }
   ],
   "source": [
    "# 5270 categories\n",
    "len(df['category_id'].unique())"
   ]
  },
  {
   "cell_type": "code",
   "execution_count": 19,
   "metadata": {
    "scrolled": false
   },
   "outputs": [
    {
     "data": {
      "text/plain": [
       "1000018296    79640\n",
       "1000011423    71116\n",
       "1000011427    69784\n",
       "1000014202    65642\n",
       "1000015309    65435\n",
       "Name: category_id, dtype: int64"
      ]
     },
     "execution_count": 19,
     "metadata": {},
     "output_type": "execute_result"
    }
   ],
   "source": [
    "# Breaking down to see how the categories are distributed\n",
    "df['category_id'].value_counts().head()"
   ]
  },
  {
   "cell_type": "code",
   "execution_count": 66,
   "metadata": {},
   "outputs": [
    {
     "data": {
      "text/plain": [
       "(array([ 490.,  306.,  345., ...,    0.,    0.,    1.]),\n",
       " array([  1.20000000e+01,   2.71096774e+01,   4.22193548e+01, ...,\n",
       "          7.96097806e+04,   7.96248903e+04,   7.96400000e+04]),\n",
       " <a list of 5270 Patch objects>)"
      ]
     },
     "execution_count": 66,
     "metadata": {},
     "output_type": "execute_result"
    },
    {
     "data": {
      "image/png": "[encoded data removed]",
      "text/plain": [
       "<matplotlib.figure.Figure at 0x12401ea20>"
      ]
     },
     "metadata": {},
     "output_type": "display_data"
    }
   ],
   "source": [
    "items= df['category_id'].value_counts()\n",
    "plt.hist(items, bins=len(items), alpha=0.5)"
   ]
  },
  {
   "cell_type": "code",
   "execution_count": 22,
   "metadata": {
    "scrolled": true
   },
   "outputs": [
    {
     "data": {
      "text/plain": [
       "49"
      ]
     },
     "execution_count": 22,
     "metadata": {},
     "output_type": "execute_result"
    }
   ],
   "source": [
    "# 49 classifications for category_1\n",
    "len(df_names['category_level1'].unique())"
   ]
  },
  {
   "cell_type": "code",
   "execution_count": 23,
   "metadata": {},
   "outputs": [
    {
     "data": {
      "text/plain": [
       "483"
      ]
     },
     "execution_count": 23,
     "metadata": {},
     "output_type": "execute_result"
    }
   ],
   "source": [
    "len(df_names['category_level2'].unique())"
   ]
  },
  {
   "cell_type": "code",
   "execution_count": 24,
   "metadata": {},
   "outputs": [
    {
     "data": {
      "text/plain": [
       "5261"
      ]
     },
     "execution_count": 24,
     "metadata": {},
     "output_type": "execute_result"
    }
   ],
   "source": [
    "len(df_names['category_level3'].unique())"
   ]
  },
  {
   "cell_type": "code",
   "execution_count": 25,
   "metadata": {},
   "outputs": [
    {
     "data": {
      "text/plain": [
       "5270"
      ]
     },
     "execution_count": 25,
     "metadata": {},
     "output_type": "execute_result"
    }
   ],
   "source": [
    "len(df_names['category_id'].unique())"
   ]
  },
  {
   "cell_type": "code",
   "execution_count": 14,
   "metadata": {
    "scrolled": true
   },
   "outputs": [
    {
     "data": {
      "text/html": [
       "<div>\n",
       "<style>\n",
       "    .dataframe thead tr:only-child th {\n",
       "        text-align: right;\n",
       "    }\n",
       "\n",
       "    .dataframe thead th {\n",
       "        text-align: left;\n",
       "    }\n",
       "\n",
       "    .dataframe tbody tr th {\n",
       "        vertical-align: top;\n",
       "    }\n",
       "</style>\n",
       "<table border=\"1\" class=\"dataframe\">\n",
       "  <thead>\n",
       "    <tr style=\"text-align: right;\">\n",
       "      <th></th>\n",
       "      <th>category_id</th>\n",
       "      <th>category_level1</th>\n",
       "      <th>category_level2</th>\n",
       "      <th>category_level3</th>\n",
       "    </tr>\n",
       "  </thead>\n",
       "  <tbody>\n",
       "    <tr>\n",
       "      <th>1046</th>\n",
       "      <td>1000010110</td>\n",
       "      <td>BIJOUX - LUNETTES - MONTRES</td>\n",
       "      <td>BIJOUX</td>\n",
       "      <td>BRACELET - GOURMETTE</td>\n",
       "    </tr>\n",
       "  </tbody>\n",
       "</table>\n",
       "</div>"
      ],
      "text/plain": [
       "      category_id              category_level1 category_level2  \\\n",
       "1046   1000010110  BIJOUX - LUNETTES - MONTRES          BIJOUX   \n",
       "\n",
       "           category_level3  \n",
       "1046  BRACELET - GOURMETTE  "
      ]
     },
     "execution_count": 14,
     "metadata": {},
     "output_type": "execute_result"
    }
   ],
   "source": [
    "# Can use the category_names datframe to see different classificatiosn and pull up names\n",
    "\n",
    "df_names[df_names['category_id']== 1000010110]"
   ]
  },
  {
   "cell_type": "code",
   "execution_count": 27,
   "metadata": {
    "collapsed": true
   },
   "outputs": [],
   "source": [
    "# First Test Set - Whiskey, Red Wine, Champagne, White Wine, and Rose)\n",
    "first_targets = [1000003437, 1000003400, 1000003407, 1000003402, 1000003404]\n"
   ]
  },
  {
   "cell_type": "code",
   "execution_count": 47,
   "metadata": {
    "collapsed": true
   },
   "outputs": [],
   "source": [
    "def see_cats_table(id_num, data_frame):\n",
    "    return data_frame[data_frame['category_id']== id_num]"
   ]
  },
  {
   "cell_type": "code",
   "execution_count": 49,
   "metadata": {
    "scrolled": false
   },
   "outputs": [
    {
     "data": {
      "text/html": [
       "<div>\n",
       "<style>\n",
       "    .dataframe thead tr:only-child th {\n",
       "        text-align: right;\n",
       "    }\n",
       "\n",
       "    .dataframe thead th {\n",
       "        text-align: left;\n",
       "    }\n",
       "\n",
       "    .dataframe tbody tr th {\n",
       "        vertical-align: top;\n",
       "    }\n",
       "</style>\n",
       "<table border=\"1\" class=\"dataframe\">\n",
       "  <thead>\n",
       "    <tr style=\"text-align: right;\">\n",
       "      <th></th>\n",
       "      <th>category_id</th>\n",
       "      <th>category_level1</th>\n",
       "      <th>category_level2</th>\n",
       "      <th>category_level3</th>\n",
       "    </tr>\n",
       "  </thead>\n",
       "  <tbody>\n",
       "    <tr>\n",
       "      <th>5246</th>\n",
       "      <td>1000003437</td>\n",
       "      <td>VIN - ALCOOL - LIQUIDES</td>\n",
       "      <td>ALCOOL</td>\n",
       "      <td>WHISKY-BOURBON-SCOTCH</td>\n",
       "    </tr>\n",
       "  </tbody>\n",
       "</table>\n",
       "</div>"
      ],
      "text/plain": [
       "      category_id          category_level1 category_level2  \\\n",
       "5246   1000003437  VIN - ALCOOL - LIQUIDES          ALCOOL   \n",
       "\n",
       "            category_level3  \n",
       "5246  WHISKY-BOURBON-SCOTCH  "
      ]
     },
     "execution_count": 49,
     "metadata": {},
     "output_type": "execute_result"
    }
   ],
   "source": [
    "# Whiskey \n",
    "see_cats_table(1000003437, df_names)"
   ]
  },
  {
   "cell_type": "code",
   "execution_count": 36,
   "metadata": {},
   "outputs": [
    {
     "data": {
      "text/html": [
       "<div>\n",
       "<style>\n",
       "    .dataframe thead tr:only-child th {\n",
       "        text-align: right;\n",
       "    }\n",
       "\n",
       "    .dataframe thead th {\n",
       "        text-align: left;\n",
       "    }\n",
       "\n",
       "    .dataframe tbody tr th {\n",
       "        vertical-align: top;\n",
       "    }\n",
       "</style>\n",
       "<table border=\"1\" class=\"dataframe\">\n",
       "  <thead>\n",
       "    <tr style=\"text-align: right;\">\n",
       "      <th></th>\n",
       "      <th>_id</th>\n",
       "      <th>category_id</th>\n",
       "    </tr>\n",
       "  </thead>\n",
       "  <tbody>\n",
       "    <tr>\n",
       "      <th>9381</th>\n",
       "      <td>13069</td>\n",
       "      <td>1000003437</td>\n",
       "    </tr>\n",
       "    <tr>\n",
       "      <th>17594</th>\n",
       "      <td>24308</td>\n",
       "      <td>1000003437</td>\n",
       "    </tr>\n",
       "    <tr>\n",
       "      <th>31387</th>\n",
       "      <td>42764</td>\n",
       "      <td>1000003437</td>\n",
       "    </tr>\n",
       "    <tr>\n",
       "      <th>63771</th>\n",
       "      <td>104618</td>\n",
       "      <td>1000003437</td>\n",
       "    </tr>\n",
       "    <tr>\n",
       "      <th>66323</th>\n",
       "      <td>110043</td>\n",
       "      <td>1000003437</td>\n",
       "    </tr>\n",
       "  </tbody>\n",
       "</table>\n",
       "</div>"
      ],
      "text/plain": [
       "          _id  category_id\n",
       "9381    13069   1000003437\n",
       "17594   24308   1000003437\n",
       "31387   42764   1000003437\n",
       "63771  104618   1000003437\n",
       "66323  110043   1000003437"
      ]
     },
     "execution_count": 36,
     "metadata": {},
     "output_type": "execute_result"
    }
   ],
   "source": [
    "# Get a sense of where the items are throughout the dataset and the number of images\n",
    "df[df['category_id']==1000003437].head()"
   ]
  },
  {
   "cell_type": "code",
   "execution_count": 37,
   "metadata": {
    "collapsed": true
   },
   "outputs": [],
   "source": [
    "# 847 images in this category \n",
    "num_whisk= len(df[df['category_id']==1000003437])"
   ]
  },
  {
   "cell_type": "code",
   "execution_count": 50,
   "metadata": {},
   "outputs": [
    {
     "data": {
      "text/html": [
       "<div>\n",
       "<style>\n",
       "    .dataframe thead tr:only-child th {\n",
       "        text-align: right;\n",
       "    }\n",
       "\n",
       "    .dataframe thead th {\n",
       "        text-align: left;\n",
       "    }\n",
       "\n",
       "    .dataframe tbody tr th {\n",
       "        vertical-align: top;\n",
       "    }\n",
       "</style>\n",
       "<table border=\"1\" class=\"dataframe\">\n",
       "  <thead>\n",
       "    <tr style=\"text-align: right;\">\n",
       "      <th></th>\n",
       "      <th>category_id</th>\n",
       "      <th>category_level1</th>\n",
       "      <th>category_level2</th>\n",
       "      <th>category_level3</th>\n",
       "    </tr>\n",
       "  </thead>\n",
       "  <tbody>\n",
       "    <tr>\n",
       "      <th>5269</th>\n",
       "      <td>1000003400</td>\n",
       "      <td>VIN - ALCOOL - LIQUIDES</td>\n",
       "      <td>VIN</td>\n",
       "      <td>VIN ROUGE</td>\n",
       "    </tr>\n",
       "  </tbody>\n",
       "</table>\n",
       "</div>"
      ],
      "text/plain": [
       "      category_id          category_level1 category_level2 category_level3\n",
       "5269   1000003400  VIN - ALCOOL - LIQUIDES             VIN       VIN ROUGE"
      ]
     },
     "execution_count": 50,
     "metadata": {},
     "output_type": "execute_result"
    }
   ],
   "source": [
    "# Red Wine\n",
    "see_cats_table(1000003400, df_names)"
   ]
  },
  {
   "cell_type": "code",
   "execution_count": 51,
   "metadata": {
    "scrolled": true
   },
   "outputs": [
    {
     "data": {
      "text/html": [
       "<div>\n",
       "<style>\n",
       "    .dataframe thead tr:only-child th {\n",
       "        text-align: right;\n",
       "    }\n",
       "\n",
       "    .dataframe thead th {\n",
       "        text-align: left;\n",
       "    }\n",
       "\n",
       "    .dataframe tbody tr th {\n",
       "        vertical-align: top;\n",
       "    }\n",
       "</style>\n",
       "<table border=\"1\" class=\"dataframe\">\n",
       "  <thead>\n",
       "    <tr style=\"text-align: right;\">\n",
       "      <th></th>\n",
       "      <th>_id</th>\n",
       "      <th>category_id</th>\n",
       "    </tr>\n",
       "  </thead>\n",
       "  <tbody>\n",
       "    <tr>\n",
       "      <th>3200</th>\n",
       "      <td>4565</td>\n",
       "      <td>1000003400</td>\n",
       "    </tr>\n",
       "    <tr>\n",
       "      <th>13442</th>\n",
       "      <td>18708</td>\n",
       "      <td>1000003400</td>\n",
       "    </tr>\n",
       "    <tr>\n",
       "      <th>17232</th>\n",
       "      <td>23822</td>\n",
       "      <td>1000003400</td>\n",
       "    </tr>\n",
       "    <tr>\n",
       "      <th>18371</th>\n",
       "      <td>25363</td>\n",
       "      <td>1000003400</td>\n",
       "    </tr>\n",
       "    <tr>\n",
       "      <th>21314</th>\n",
       "      <td>29365</td>\n",
       "      <td>1000003400</td>\n",
       "    </tr>\n",
       "  </tbody>\n",
       "</table>\n",
       "</div>"
      ],
      "text/plain": [
       "         _id  category_id\n",
       "3200    4565   1000003400\n",
       "13442  18708   1000003400\n",
       "17232  23822   1000003400\n",
       "18371  25363   1000003400\n",
       "21314  29365   1000003400"
      ]
     },
     "execution_count": 51,
     "metadata": {},
     "output_type": "execute_result"
    }
   ],
   "source": [
    "# Get a sense of where the items are throughout the dataset and the number of images\n",
    "df[df['category_id']==1000003400].head()"
   ]
  },
  {
   "cell_type": "code",
   "execution_count": 41,
   "metadata": {
    "collapsed": true
   },
   "outputs": [],
   "source": [
    "# 4398 images for the red wine\n",
    "num_red= len(df[df['category_id']==1000003400])"
   ]
  },
  {
   "cell_type": "code",
   "execution_count": 53,
   "metadata": {
    "scrolled": true
   },
   "outputs": [
    {
     "data": {
      "text/html": [
       "<div>\n",
       "<style>\n",
       "    .dataframe thead tr:only-child th {\n",
       "        text-align: right;\n",
       "    }\n",
       "\n",
       "    .dataframe thead th {\n",
       "        text-align: left;\n",
       "    }\n",
       "\n",
       "    .dataframe tbody tr th {\n",
       "        vertical-align: top;\n",
       "    }\n",
       "</style>\n",
       "<table border=\"1\" class=\"dataframe\">\n",
       "  <thead>\n",
       "    <tr style=\"text-align: right;\">\n",
       "      <th></th>\n",
       "      <th>category_id</th>\n",
       "      <th>category_level1</th>\n",
       "      <th>category_level2</th>\n",
       "      <th>category_level3</th>\n",
       "    </tr>\n",
       "  </thead>\n",
       "  <tbody>\n",
       "    <tr>\n",
       "      <th>5267</th>\n",
       "      <td>1000003402</td>\n",
       "      <td>VIN - ALCOOL - LIQUIDES</td>\n",
       "      <td>VIN</td>\n",
       "      <td>VIN BLANC</td>\n",
       "    </tr>\n",
       "  </tbody>\n",
       "</table>\n",
       "</div>"
      ],
      "text/plain": [
       "      category_id          category_level1 category_level2 category_level3\n",
       "5267   1000003402  VIN - ALCOOL - LIQUIDES             VIN       VIN BLANC"
      ]
     },
     "execution_count": 53,
     "metadata": {},
     "output_type": "execute_result"
    }
   ],
   "source": [
    "# White Wine \n",
    "see_cats_table(1000003402, df_names)"
   ]
  },
  {
   "cell_type": "code",
   "execution_count": 54,
   "metadata": {
    "scrolled": true
   },
   "outputs": [
    {
     "data": {
      "text/html": [
       "<div>\n",
       "<style>\n",
       "    .dataframe thead tr:only-child th {\n",
       "        text-align: right;\n",
       "    }\n",
       "\n",
       "    .dataframe thead th {\n",
       "        text-align: left;\n",
       "    }\n",
       "\n",
       "    .dataframe tbody tr th {\n",
       "        vertical-align: top;\n",
       "    }\n",
       "</style>\n",
       "<table border=\"1\" class=\"dataframe\">\n",
       "  <thead>\n",
       "    <tr style=\"text-align: right;\">\n",
       "      <th></th>\n",
       "      <th>_id</th>\n",
       "      <th>category_id</th>\n",
       "    </tr>\n",
       "  </thead>\n",
       "  <tbody>\n",
       "    <tr>\n",
       "      <th>27060</th>\n",
       "      <td>37050</td>\n",
       "      <td>1000003402</td>\n",
       "    </tr>\n",
       "    <tr>\n",
       "      <th>41359</th>\n",
       "      <td>56189</td>\n",
       "      <td>1000003402</td>\n",
       "    </tr>\n",
       "    <tr>\n",
       "      <th>49015</th>\n",
       "      <td>72709</td>\n",
       "      <td>1000003402</td>\n",
       "    </tr>\n",
       "    <tr>\n",
       "      <th>51170</th>\n",
       "      <td>77327</td>\n",
       "      <td>1000003402</td>\n",
       "    </tr>\n",
       "    <tr>\n",
       "      <th>62543</th>\n",
       "      <td>101977</td>\n",
       "      <td>1000003402</td>\n",
       "    </tr>\n",
       "  </tbody>\n",
       "</table>\n",
       "</div>"
      ],
      "text/plain": [
       "          _id  category_id\n",
       "27060   37050   1000003402\n",
       "41359   56189   1000003402\n",
       "49015   72709   1000003402\n",
       "51170   77327   1000003402\n",
       "62543  101977   1000003402"
      ]
     },
     "execution_count": 54,
     "metadata": {},
     "output_type": "execute_result"
    }
   ],
   "source": [
    "df[df['category_id']==1000003402].head()"
   ]
  },
  {
   "cell_type": "code",
   "execution_count": 56,
   "metadata": {
    "collapsed": true
   },
   "outputs": [],
   "source": [
    "# 1346 images of white wine \n",
    "num_white= len(df[df['category_id']==1000003402])"
   ]
  },
  {
   "cell_type": "code",
   "execution_count": 57,
   "metadata": {},
   "outputs": [
    {
     "data": {
      "text/html": [
       "<div>\n",
       "<style>\n",
       "    .dataframe thead tr:only-child th {\n",
       "        text-align: right;\n",
       "    }\n",
       "\n",
       "    .dataframe thead th {\n",
       "        text-align: left;\n",
       "    }\n",
       "\n",
       "    .dataframe tbody tr th {\n",
       "        vertical-align: top;\n",
       "    }\n",
       "</style>\n",
       "<table border=\"1\" class=\"dataframe\">\n",
       "  <thead>\n",
       "    <tr style=\"text-align: right;\">\n",
       "      <th></th>\n",
       "      <th>category_id</th>\n",
       "      <th>category_level1</th>\n",
       "      <th>category_level2</th>\n",
       "      <th>category_level3</th>\n",
       "    </tr>\n",
       "  </thead>\n",
       "  <tbody>\n",
       "    <tr>\n",
       "      <th>5268</th>\n",
       "      <td>1000003404</td>\n",
       "      <td>VIN - ALCOOL - LIQUIDES</td>\n",
       "      <td>VIN</td>\n",
       "      <td>VIN ROSE</td>\n",
       "    </tr>\n",
       "  </tbody>\n",
       "</table>\n",
       "</div>"
      ],
      "text/plain": [
       "      category_id          category_level1 category_level2 category_level3\n",
       "5268   1000003404  VIN - ALCOOL - LIQUIDES             VIN        VIN ROSE"
      ]
     },
     "execution_count": 57,
     "metadata": {},
     "output_type": "execute_result"
    }
   ],
   "source": [
    "# Rose \n",
    "see_cats_table(1000003404, df_names)"
   ]
  },
  {
   "cell_type": "code",
   "execution_count": 58,
   "metadata": {
    "scrolled": false
   },
   "outputs": [
    {
     "data": {
      "text/html": [
       "<div>\n",
       "<style>\n",
       "    .dataframe thead tr:only-child th {\n",
       "        text-align: right;\n",
       "    }\n",
       "\n",
       "    .dataframe thead th {\n",
       "        text-align: left;\n",
       "    }\n",
       "\n",
       "    .dataframe tbody tr th {\n",
       "        vertical-align: top;\n",
       "    }\n",
       "</style>\n",
       "<table border=\"1\" class=\"dataframe\">\n",
       "  <thead>\n",
       "    <tr style=\"text-align: right;\">\n",
       "      <th></th>\n",
       "      <th>_id</th>\n",
       "      <th>category_id</th>\n",
       "    </tr>\n",
       "  </thead>\n",
       "  <tbody>\n",
       "    <tr>\n",
       "      <th>21794</th>\n",
       "      <td>30030</td>\n",
       "      <td>1000003404</td>\n",
       "    </tr>\n",
       "    <tr>\n",
       "      <th>41869</th>\n",
       "      <td>57298</td>\n",
       "      <td>1000003404</td>\n",
       "    </tr>\n",
       "    <tr>\n",
       "      <th>61008</th>\n",
       "      <td>98630</td>\n",
       "      <td>1000003404</td>\n",
       "    </tr>\n",
       "    <tr>\n",
       "      <th>68751</th>\n",
       "      <td>115329</td>\n",
       "      <td>1000003404</td>\n",
       "    </tr>\n",
       "    <tr>\n",
       "      <th>83513</th>\n",
       "      <td>147457</td>\n",
       "      <td>1000003404</td>\n",
       "    </tr>\n",
       "  </tbody>\n",
       "</table>\n",
       "</div>"
      ],
      "text/plain": [
       "          _id  category_id\n",
       "21794   30030   1000003404\n",
       "41869   57298   1000003404\n",
       "61008   98630   1000003404\n",
       "68751  115329   1000003404\n",
       "83513  147457   1000003404"
      ]
     },
     "execution_count": 58,
     "metadata": {},
     "output_type": "execute_result"
    }
   ],
   "source": [
    "df[df['category_id']==1000003404].head()"
   ]
  },
  {
   "cell_type": "code",
   "execution_count": 62,
   "metadata": {
    "collapsed": true
   },
   "outputs": [],
   "source": [
    "# 405 images of Rose \n",
    "num_rose = len(df[df['category_id']==1000003404])"
   ]
  },
  {
   "cell_type": "code",
   "execution_count": 67,
   "metadata": {},
   "outputs": [
    {
     "data": {
      "text/html": [
       "<div>\n",
       "<style>\n",
       "    .dataframe thead tr:only-child th {\n",
       "        text-align: right;\n",
       "    }\n",
       "\n",
       "    .dataframe thead th {\n",
       "        text-align: left;\n",
       "    }\n",
       "\n",
       "    .dataframe tbody tr th {\n",
       "        vertical-align: top;\n",
       "    }\n",
       "</style>\n",
       "<table border=\"1\" class=\"dataframe\">\n",
       "  <thead>\n",
       "    <tr style=\"text-align: right;\">\n",
       "      <th></th>\n",
       "      <th>category_id</th>\n",
       "      <th>category_level1</th>\n",
       "      <th>category_level2</th>\n",
       "      <th>category_level3</th>\n",
       "    </tr>\n",
       "  </thead>\n",
       "  <tbody>\n",
       "    <tr>\n",
       "      <th>5254</th>\n",
       "      <td>1000003407</td>\n",
       "      <td>VIN - ALCOOL - LIQUIDES</td>\n",
       "      <td>CHAMPAGNE - PETILLANT - MOUSSEUX</td>\n",
       "      <td>CHAMPAGNE</td>\n",
       "    </tr>\n",
       "  </tbody>\n",
       "</table>\n",
       "</div>"
      ],
      "text/plain": [
       "      category_id          category_level1                   category_level2  \\\n",
       "5254   1000003407  VIN - ALCOOL - LIQUIDES  CHAMPAGNE - PETILLANT - MOUSSEUX   \n",
       "\n",
       "     category_level3  \n",
       "5254       CHAMPAGNE  "
      ]
     },
     "execution_count": 67,
     "metadata": {},
     "output_type": "execute_result"
    }
   ],
   "source": [
    "see_cats_table(1000003407, df_names)"
   ]
  },
  {
   "cell_type": "code",
   "execution_count": 69,
   "metadata": {},
   "outputs": [
    {
     "data": {
      "text/html": [
       "<div>\n",
       "<style>\n",
       "    .dataframe thead tr:only-child th {\n",
       "        text-align: right;\n",
       "    }\n",
       "\n",
       "    .dataframe thead th {\n",
       "        text-align: left;\n",
       "    }\n",
       "\n",
       "    .dataframe tbody tr th {\n",
       "        vertical-align: top;\n",
       "    }\n",
       "</style>\n",
       "<table border=\"1\" class=\"dataframe\">\n",
       "  <thead>\n",
       "    <tr style=\"text-align: right;\">\n",
       "      <th></th>\n",
       "      <th>_id</th>\n",
       "      <th>category_id</th>\n",
       "    </tr>\n",
       "  </thead>\n",
       "  <tbody>\n",
       "    <tr>\n",
       "      <th>16629</th>\n",
       "      <td>23035</td>\n",
       "      <td>1000003407</td>\n",
       "    </tr>\n",
       "    <tr>\n",
       "      <th>18951</th>\n",
       "      <td>26108</td>\n",
       "      <td>1000003407</td>\n",
       "    </tr>\n",
       "    <tr>\n",
       "      <th>32429</th>\n",
       "      <td>44177</td>\n",
       "      <td>1000003407</td>\n",
       "    </tr>\n",
       "    <tr>\n",
       "      <th>36864</th>\n",
       "      <td>50095</td>\n",
       "      <td>1000003407</td>\n",
       "    </tr>\n",
       "    <tr>\n",
       "      <th>49144</th>\n",
       "      <td>72957</td>\n",
       "      <td>1000003407</td>\n",
       "    </tr>\n",
       "  </tbody>\n",
       "</table>\n",
       "</div>"
      ],
      "text/plain": [
       "         _id  category_id\n",
       "16629  23035   1000003407\n",
       "18951  26108   1000003407\n",
       "32429  44177   1000003407\n",
       "36864  50095   1000003407\n",
       "49144  72957   1000003407"
      ]
     },
     "execution_count": 69,
     "metadata": {},
     "output_type": "execute_result"
    }
   ],
   "source": [
    "df[df['category_id']==1000003407].head()"
   ]
  },
  {
   "cell_type": "code",
   "execution_count": 70,
   "metadata": {
    "collapsed": true
   },
   "outputs": [],
   "source": [
    "# 920 photos of Champagne bottles\n",
    "num_champ= len(df[df['category_id']==1000003407])"
   ]
  },
  {
   "cell_type": "code",
   "execution_count": 80,
   "metadata": {},
   "outputs": [
    {
     "data": {
      "text/plain": [
       "7916"
      ]
     },
     "execution_count": 80,
     "metadata": {},
     "output_type": "execute_result"
    }
   ],
   "source": [
    "total_set1_items = num_whisk + num_red + num_white + num_rose + num_champ\n",
    "total_set1_items"
   ]
  },
  {
   "cell_type": "code",
   "execution_count": 74,
   "metadata": {
    "scrolled": false
   },
   "outputs": [
    {
     "data": {
      "text/plain": [
       "(array([ 3.,  1.,  0.,  0.,  1.]),\n",
       " array([  405. ,  1203.6,  2002.2,  2800.8,  3599.4,  4398. ]),\n",
       " <a list of 5 Patch objects>)"
      ]
     },
     "execution_count": 74,
     "metadata": {},
     "output_type": "execute_result"
    },
    {
     "data": {
      "image/png": "[encoded data removed]",
      "text/plain": [
       "<matplotlib.figure.Figure at 0x12ae71a58>"
      ]
     },
     "metadata": {},
     "output_type": "display_data"
    }
   ],
   "source": [
    "plt.hist([num_whisk, num_red, num_white, num_rose, num_champ], bins=5)"
   ]
  },
  {
   "cell_type": "code",
   "execution_count": 76,
   "metadata": {},
   "outputs": [
    {
     "data": {
      "text/plain": [
       "(array([ 3.,  1.,  0.,  0.,  1.]),\n",
       " array([ 0.0511622 ,  0.15204649,  0.25293077,  0.35381506,  0.45469934,\n",
       "         0.55558363]),\n",
       " <a list of 5 Patch objects>)"
      ]
     },
     "execution_count": 76,
     "metadata": {},
     "output_type": "execute_result"
    },
    {
     "data": {
      "image/png": "[encoded data removed]",
      "text/plain": [
       "<matplotlib.figure.Figure at 0x144357c50>"
      ]
     },
     "metadata": {},
     "output_type": "display_data"
    }
   ],
   "source": [
    "plt.hist([num_whisk/total_set1_items, num_red/total_set1_items, num_white/total_set1_items, num_rose/total_set1_items, num_champ/total_set1_items], bins=5)"
   ]
  },
  {
   "cell_type": "code",
   "execution_count": 83,
   "metadata": {},
   "outputs": [
    {
     "name": "stdout",
     "output_type": "stream",
     "text": [
      "percent 847 = 0.10699848408287013\n",
      "percent 4398 = 0.5555836280949975\n",
      "percent 1346 = 0.17003537139969682\n",
      "percent 405 = 0.0511622031328954\n",
      "percent 920 = 0.11622031328954018\n"
     ]
    }
   ],
   "source": [
    "lst_nums = [num_whisk, num_red, num_white, num_rose, num_champ]\n",
    "for num in lst_nums:\n",
    "    print(\"percent \" + str(num) + \" = \" + str(num/total_set1_items))"
   ]
  },
  {
   "cell_type": "code",
   "execution_count": 98,
   "metadata": {
    "collapsed": true
   },
   "outputs": [],
   "source": [
    "# Second Set of Items \n",
    "# Important that there are 5 categories, with roughly the same distribution\n",
    "# charactistics of the first set \n",
    "\n",
    "# photography books, auto-fuses, headboards, hinges, lotion\n",
    "second_targets = [1000014042, 1000005888, 1000015754, 1000002844, 1000003988]\n",
    "\n"
   ]
  },
  {
   "cell_type": "code",
   "execution_count": 91,
   "metadata": {
    "collapsed": true
   },
   "outputs": [],
   "source": [
    "df_temps = df['category_id'].value_counts()"
   ]
  },
  {
   "cell_type": "code",
   "execution_count": 147,
   "metadata": {
    "collapsed": true,
    "scrolled": true
   },
   "outputs": [],
   "source": [
    "# used filtering to find groups of similar size but different categories\n",
    "#df_temps[df_temps.values<406]\n"
   ]
  },
  {
   "cell_type": "code",
   "execution_count": 112,
   "metadata": {},
   "outputs": [
    {
     "data": {
      "text/html": [
       "<div>\n",
       "<style>\n",
       "    .dataframe thead tr:only-child th {\n",
       "        text-align: right;\n",
       "    }\n",
       "\n",
       "    .dataframe thead th {\n",
       "        text-align: left;\n",
       "    }\n",
       "\n",
       "    .dataframe tbody tr th {\n",
       "        vertical-align: top;\n",
       "    }\n",
       "</style>\n",
       "<table border=\"1\" class=\"dataframe\">\n",
       "  <thead>\n",
       "    <tr style=\"text-align: right;\">\n",
       "      <th></th>\n",
       "      <th>category_id</th>\n",
       "      <th>category_level1</th>\n",
       "      <th>category_level2</th>\n",
       "      <th>category_level3</th>\n",
       "    </tr>\n",
       "  </thead>\n",
       "  <tbody>\n",
       "    <tr>\n",
       "      <th>3251</th>\n",
       "      <td>1000014042</td>\n",
       "      <td>LIBRAIRIE</td>\n",
       "      <td>ARTS - CINEMA - MUSIQUE</td>\n",
       "      <td>PHOTOGRAPHIE</td>\n",
       "    </tr>\n",
       "  </tbody>\n",
       "</table>\n",
       "</div>"
      ],
      "text/plain": [
       "      category_id category_level1          category_level2 category_level3\n",
       "3251   1000014042       LIBRAIRIE  ARTS - CINEMA - MUSIQUE    PHOTOGRAPHIE"
      ]
     },
     "execution_count": 112,
     "metadata": {},
     "output_type": "execute_result"
    }
   ],
   "source": [
    "see_cats_table(1000014042, df_names)"
   ]
  },
  {
   "cell_type": "code",
   "execution_count": 105,
   "metadata": {
    "collapsed": true
   },
   "outputs": [],
   "source": [
    "# 4401 Photography Books\n",
    "\n",
    "num_photo_books = len(df[df['category_id']== 1000014042])"
   ]
  },
  {
   "cell_type": "code",
   "execution_count": 111,
   "metadata": {},
   "outputs": [
    {
     "data": {
      "text/html": [
       "<div>\n",
       "<style>\n",
       "    .dataframe thead tr:only-child th {\n",
       "        text-align: right;\n",
       "    }\n",
       "\n",
       "    .dataframe thead th {\n",
       "        text-align: left;\n",
       "    }\n",
       "\n",
       "    .dataframe tbody tr th {\n",
       "        vertical-align: top;\n",
       "    }\n",
       "</style>\n",
       "<table border=\"1\" class=\"dataframe\">\n",
       "  <thead>\n",
       "    <tr style=\"text-align: right;\">\n",
       "      <th></th>\n",
       "      <th>category_id</th>\n",
       "      <th>category_level1</th>\n",
       "      <th>category_level2</th>\n",
       "      <th>category_level3</th>\n",
       "    </tr>\n",
       "  </thead>\n",
       "  <tbody>\n",
       "    <tr>\n",
       "      <th>754</th>\n",
       "      <td>1000005888</td>\n",
       "      <td>AUTO - MOTO</td>\n",
       "      <td>PIECES</td>\n",
       "      <td>FUSIBLES</td>\n",
       "    </tr>\n",
       "  </tbody>\n",
       "</table>\n",
       "</div>"
      ],
      "text/plain": [
       "     category_id category_level1 category_level2 category_level3\n",
       "754   1000005888     AUTO - MOTO          PIECES        FUSIBLES"
      ]
     },
     "execution_count": 111,
     "metadata": {},
     "output_type": "execute_result"
    }
   ],
   "source": [
    "see_cats_table(1000005888, df_names)\n"
   ]
  },
  {
   "cell_type": "code",
   "execution_count": 131,
   "metadata": {
    "collapsed": true
   },
   "outputs": [],
   "source": [
    "# 1348  Auto-fuses\n",
    "num_fuses= len(df[df['category_id']== 1000002478])"
   ]
  },
  {
   "cell_type": "code",
   "execution_count": 116,
   "metadata": {},
   "outputs": [
    {
     "data": {
      "text/html": [
       "<div>\n",
       "<style>\n",
       "    .dataframe thead tr:only-child th {\n",
       "        text-align: right;\n",
       "    }\n",
       "\n",
       "    .dataframe thead th {\n",
       "        text-align: left;\n",
       "    }\n",
       "\n",
       "    .dataframe tbody tr th {\n",
       "        vertical-align: top;\n",
       "    }\n",
       "</style>\n",
       "<table border=\"1\" class=\"dataframe\">\n",
       "  <thead>\n",
       "    <tr style=\"text-align: right;\">\n",
       "      <th></th>\n",
       "      <th>category_id</th>\n",
       "      <th>category_level1</th>\n",
       "      <th>category_level2</th>\n",
       "      <th>category_level3</th>\n",
       "    </tr>\n",
       "  </thead>\n",
       "  <tbody>\n",
       "    <tr>\n",
       "      <th>3404</th>\n",
       "      <td>1000015754</td>\n",
       "      <td>LITERIE</td>\n",
       "      <td>ACCESSOIRES LITERIE</td>\n",
       "      <td>TETE DE LIT</td>\n",
       "    </tr>\n",
       "  </tbody>\n",
       "</table>\n",
       "</div>"
      ],
      "text/plain": [
       "      category_id category_level1      category_level2 category_level3\n",
       "3404   1000015754         LITERIE  ACCESSOIRES LITERIE     TETE DE LIT"
      ]
     },
     "execution_count": 116,
     "metadata": {},
     "output_type": "execute_result"
    }
   ],
   "source": [
    "see_cats_table(1000015754, df_names)"
   ]
  },
  {
   "cell_type": "code",
   "execution_count": 132,
   "metadata": {
    "collapsed": true
   },
   "outputs": [],
   "source": [
    "# 920 headboards for Beds\n",
    "num_headboards=len(df[df['category_id']== 1000015754])"
   ]
  },
  {
   "cell_type": "code",
   "execution_count": 125,
   "metadata": {},
   "outputs": [
    {
     "data": {
      "text/html": [
       "<div>\n",
       "<style>\n",
       "    .dataframe thead tr:only-child th {\n",
       "        text-align: right;\n",
       "    }\n",
       "\n",
       "    .dataframe thead th {\n",
       "        text-align: left;\n",
       "    }\n",
       "\n",
       "    .dataframe tbody tr th {\n",
       "        vertical-align: top;\n",
       "    }\n",
       "</style>\n",
       "<table border=\"1\" class=\"dataframe\">\n",
       "  <thead>\n",
       "    <tr style=\"text-align: right;\">\n",
       "      <th></th>\n",
       "      <th>category_id</th>\n",
       "      <th>category_level1</th>\n",
       "      <th>category_level2</th>\n",
       "      <th>category_level3</th>\n",
       "    </tr>\n",
       "  </thead>\n",
       "  <tbody>\n",
       "    <tr>\n",
       "      <th>1407</th>\n",
       "      <td>1000002844</td>\n",
       "      <td>BRICOLAGE - OUTILLAGE - QUINCAILLERIE</td>\n",
       "      <td>QUINCAILLERIE</td>\n",
       "      <td>CHARNIERE - FICHE - PAUMELLE D'AMEUBLEMENT - P...</td>\n",
       "    </tr>\n",
       "  </tbody>\n",
       "</table>\n",
       "</div>"
      ],
      "text/plain": [
       "      category_id                        category_level1 category_level2  \\\n",
       "1407   1000002844  BRICOLAGE - OUTILLAGE - QUINCAILLERIE   QUINCAILLERIE   \n",
       "\n",
       "                                        category_level3  \n",
       "1407  CHARNIERE - FICHE - PAUMELLE D'AMEUBLEMENT - P...  "
      ]
     },
     "execution_count": 125,
     "metadata": {},
     "output_type": "execute_result"
    }
   ],
   "source": [
    "see_cats_table(1000002844 , df_names)"
   ]
  },
  {
   "cell_type": "code",
   "execution_count": 133,
   "metadata": {
    "collapsed": true
   },
   "outputs": [],
   "source": [
    "# Number hinges 845\n",
    "num_hinges=len(df[df['category_id']== 1000002844])"
   ]
  },
  {
   "cell_type": "code",
   "execution_count": 140,
   "metadata": {},
   "outputs": [
    {
     "data": {
      "text/html": [
       "<div>\n",
       "<style>\n",
       "    .dataframe thead tr:only-child th {\n",
       "        text-align: right;\n",
       "    }\n",
       "\n",
       "    .dataframe thead th {\n",
       "        text-align: left;\n",
       "    }\n",
       "\n",
       "    .dataframe tbody tr th {\n",
       "        vertical-align: top;\n",
       "    }\n",
       "</style>\n",
       "<table border=\"1\" class=\"dataframe\">\n",
       "  <thead>\n",
       "    <tr style=\"text-align: right;\">\n",
       "      <th></th>\n",
       "      <th>category_id</th>\n",
       "      <th>category_level1</th>\n",
       "      <th>category_level2</th>\n",
       "      <th>category_level3</th>\n",
       "    </tr>\n",
       "  </thead>\n",
       "  <tbody>\n",
       "    <tr>\n",
       "      <th>2322</th>\n",
       "      <td>1000003988</td>\n",
       "      <td>HYGIENE - BEAUTE - PARFUM</td>\n",
       "      <td>CAPILLAIRE</td>\n",
       "      <td>PRODUIT DE DEFRISAGE - PRODUIT DE LISSAGE</td>\n",
       "    </tr>\n",
       "  </tbody>\n",
       "</table>\n",
       "</div>"
      ],
      "text/plain": [
       "      category_id            category_level1 category_level2  \\\n",
       "2322   1000003988  HYGIENE - BEAUTE - PARFUM      CAPILLAIRE   \n",
       "\n",
       "                                category_level3  \n",
       "2322  PRODUIT DE DEFRISAGE - PRODUIT DE LISSAGE  "
      ]
     },
     "execution_count": 140,
     "metadata": {},
     "output_type": "execute_result"
    }
   ],
   "source": [
    "see_cats_table(1000003988, df_names)"
   ]
  },
  {
   "cell_type": "code",
   "execution_count": 141,
   "metadata": {
    "collapsed": true
   },
   "outputs": [],
   "source": [
    "# Lotion\n",
    "num_lotion= len(df[df['category_id']== 1000003988])"
   ]
  },
  {
   "cell_type": "code",
   "execution_count": 144,
   "metadata": {},
   "outputs": [
    {
     "data": {
      "text/plain": [
       "7916"
      ]
     },
     "execution_count": 144,
     "metadata": {},
     "output_type": "execute_result"
    }
   ],
   "source": [
    "# Same size as my first test group\n",
    "\n",
    "total_set2_items = num_photo_books + num_fuses + num_headboards + num_hinges + num_lotion\n",
    "total_set2_items"
   ]
  },
  {
   "cell_type": "code",
   "execution_count": 145,
   "metadata": {},
   "outputs": [
    {
     "data": {
      "text/plain": [
       "(array([ 3.,  1.,  0.,  0.,  1.]),\n",
       " array([  402. ,  1201.8,  2001.6,  2801.4,  3601.2,  4401. ]),\n",
       " <a list of 5 Patch objects>)"
      ]
     },
     "execution_count": 145,
     "metadata": {},
     "output_type": "execute_result"
    },
    {
     "data": {
      "image/png": "[encoded data removed]",
      "text/plain": [
       "<matplotlib.figure.Figure at 0x144d44a90>"
      ]
     },
     "metadata": {},
     "output_type": "display_data"
    }
   ],
   "source": [
    "plt.hist([num_photo_books, num_fuses, num_headboards, num_hinges, num_lotion], bins=5)"
   ]
  },
  {
   "cell_type": "code",
   "execution_count": 146,
   "metadata": {},
   "outputs": [
    {
     "name": "stdout",
     "output_type": "stream",
     "text": [
      "percent 4401 = 0.5559626073774634\n",
      "percent 1348 = 0.17028802425467407\n",
      "percent 920 = 0.11622031328954018\n",
      "percent 845 = 0.10674583122789287\n",
      "percent 402 = 0.05078322385042951\n"
     ]
    }
   ],
   "source": [
    "lst_nums = [num_photo_books, num_fuses, num_headboards, num_hinges, num_lotion]\n",
    "for num in lst_nums:\n",
    "    print(\"percent \" + str(num) + \" = \" + str(num/total_set1_items))"
   ]
  }
 ],
 "metadata": {
  "kernelspec": {
   "display_name": "Python 3",
   "language": "python",
   "name": "python3"
  },
  "language_info": {
   "codemirror_mode": {
    "name": "ipython",
    "version": 3
   },
   "file_extension": ".py",
   "mimetype": "text/x-python",
   "name": "python",
   "nbconvert_exporter": "python",
   "pygments_lexer": "ipython3",
   "version": "3.6.1"
  }
 },
 "nbformat": 4,
 "nbformat_minor": 2
}
